{
 "cells": [
  {
   "cell_type": "code",
   "execution_count": 2,
   "id": "ff2aee4a",
   "metadata": {},
   "outputs": [
    {
     "name": "stderr",
     "output_type": "stream",
     "text": [
      "\n",
      "Attaching package: 'dplyr'\n",
      "\n",
      "\n",
      "The following objects are masked from 'package:stats':\n",
      "\n",
      "    filter, lag\n",
      "\n",
      "\n",
      "The following objects are masked from 'package:base':\n",
      "\n",
      "    intersect, setdiff, setequal, union\n",
      "\n",
      "\n"
     ]
    },
    {
     "name": "stdout",
     "output_type": "stream",
     "text": [
      "package 'wrapr' successfully unpacked and MD5 sums checked\n",
      "\n",
      "The downloaded binary packages are in\n",
      "\tC:\\Users\\jacqu\\AppData\\Local\\Temp\\RtmpI12jK6\\downloaded_packages\n"
     ]
    },
    {
     "name": "stderr",
     "output_type": "stream",
     "text": [
      "\n",
      "Attaching package: 'wrapr'\n",
      "\n",
      "\n",
      "The following object is masked from 'package:dplyr':\n",
      "\n",
      "    coalesce\n",
      "\n",
      "\n",
      "The following object is masked from 'package:tibble':\n",
      "\n",
      "    view\n",
      "\n",
      "\n"
     ]
    }
   ],
   "source": [
    "# Write you library imports here. E.g.:\n",
    "library(ggplot2)\n",
    "library(tibble)\n",
    "library(dplyr)\n",
    "install.packages(\"wrapr\")\n",
    "library(wrapr) # needed for %?% function in question 4; will un-load after q4"
   ]
  },
  {
   "cell_type": "markdown",
   "id": "b90fe26e",
   "metadata": {},
   "source": [
    "\n",
    "### Instructions:\n",
    "\n",
    "1. it is considered proper programming practice to load all the libraries you need in the first cell of a notebook or at the top of the R-Markdown file. Put all your imports (e.g., `library(ggplot)`) in the cell above.\n",
    "2. Create as many cells as needed to answer a question\n",
    "  * Group code that is logically related in the same cell\n",
    "  * Keep cells relatively small\n",
    "  * Format long statements or expressions, including `ggplot`, across multiple lines\n",
    "3. Submit your work to GitHub under your MBIO repository.\n",
    "  * Folder should be called `4_apply_and_data`\n",
    "    "
   ]
  },
  {
   "cell_type": "markdown",
   "id": "9d1f436c",
   "metadata": {},
   "source": [
    "### Q1\n",
    "\n",
    "* Write a function called `sd_x` that computes the standard deviation from first principles. Recall that the standard deviation is computed as\n",
    "\n",
    "$$\n",
    "\\sigma = \\sqrt{\\frac{\\sum{(x_i - \\mu)^2}}{N-1}}\n",
    "$$\n",
    "\n",
    "* $\\mu$ is simply the mean of the vector of inputs\n",
    "  * it can be computed using the `mean` function\n",
    "\n",
    "\n",
    "For example, given:\n",
    "\n",
    "```x = c(1,2,3)```\n",
    "\n",
    "Since $\\mu = 2$, then $\\sigma = \\sqrt{\\frac{(1-2)^2 + (2-2)^2 + (3-2)^2}{3}} = 1$.\n"
   ]
  },
  {
   "cell_type": "code",
   "execution_count": 125,
   "id": "a532397f",
   "metadata": {},
   "outputs": [
    {
     "data": {
      "text/html": [
       "1"
      ],
      "text/latex": [
       "1"
      ],
      "text/markdown": [
       "1"
      ],
      "text/plain": [
       "[1] 1"
      ]
     },
     "metadata": {},
     "output_type": "display_data"
    }
   ],
   "source": [
    "x <- c(1,2,3)\n",
    "sd_x <- function(x){\n",
    "    sqrt(sum((x-mean(x))^2) / (length(x)-1))}\n",
    "sd_x(x)"
   ]
  },
  {
   "cell_type": "markdown",
   "id": "e959fbbe",
   "metadata": {},
   "source": [
    "### Optional Question \n",
    "\n",
    "Remember that we cannot compute the standard deviation of a single value. As such, modify your `sd_x` code to throw an error similar to those R generates when your code contains an error, whenever a user calls `sd_x` with a list containing a single element. Various methods can be used to accomplish this. One such way is by using the [`assertthat` package](https://github.com/hadley/assertthat) "
   ]
  },
  {
   "cell_type": "code",
   "execution_count": null,
   "id": "5da36d62",
   "metadata": {},
   "outputs": [],
   "source": [
    "# Write your code here if you choose to answer the question above\n",
    "# use extra cells if needed"
   ]
  },
  {
   "cell_type": "markdown",
   "id": "49cf15c5",
   "metadata": {},
   "source": [
    "### Q2\n",
    "Given the following matrix of data where each column consists of a variable: \n",
    "1. Convert this data frame into a tibble called data_tbl\n",
    "2. Use one of the apply-type of functions in conjunction with `sd_x` you wrote previously to compute the standard deviation for each column.\n"
   ]
  },
  {
   "cell_type": "code",
   "execution_count": 126,
   "id": "778eb309",
   "metadata": {},
   "outputs": [],
   "source": [
    "data <- matrix(1:50, ncol=5)\n",
    "colnames(data) <- c(\"variable_1\", \"variable_2\", \"variable_3\", \"variable_4\", \"variable_5\")"
   ]
  },
  {
   "cell_type": "markdown",
   "id": "22f47b36",
   "metadata": {},
   "source": [
    "Below, data_tbl becomes tibble and stdev is returned below tibble"
   ]
  },
  {
   "cell_type": "code",
   "execution_count": 127,
   "id": "d8de32a8",
   "metadata": {},
   "outputs": [
    {
     "data": {
      "text/html": [
       "<table class=\"dataframe\">\n",
       "<caption>A tibble: 6 × 5</caption>\n",
       "<thead>\n",
       "\t<tr><th scope=col>variable_1</th><th scope=col>variable_2</th><th scope=col>variable_3</th><th scope=col>variable_4</th><th scope=col>variable_5</th></tr>\n",
       "\t<tr><th scope=col>&lt;int&gt;</th><th scope=col>&lt;int&gt;</th><th scope=col>&lt;int&gt;</th><th scope=col>&lt;int&gt;</th><th scope=col>&lt;int&gt;</th></tr>\n",
       "</thead>\n",
       "<tbody>\n",
       "\t<tr><td>1</td><td>11</td><td>21</td><td>31</td><td>41</td></tr>\n",
       "\t<tr><td>2</td><td>12</td><td>22</td><td>32</td><td>42</td></tr>\n",
       "\t<tr><td>3</td><td>13</td><td>23</td><td>33</td><td>43</td></tr>\n",
       "\t<tr><td>4</td><td>14</td><td>24</td><td>34</td><td>44</td></tr>\n",
       "\t<tr><td>5</td><td>15</td><td>25</td><td>35</td><td>45</td></tr>\n",
       "\t<tr><td>6</td><td>16</td><td>26</td><td>36</td><td>46</td></tr>\n",
       "</tbody>\n",
       "</table>\n"
      ],
      "text/latex": [
       "A tibble: 6 × 5\n",
       "\\begin{tabular}{lllll}\n",
       " variable\\_1 & variable\\_2 & variable\\_3 & variable\\_4 & variable\\_5\\\\\n",
       " <int> & <int> & <int> & <int> & <int>\\\\\n",
       "\\hline\n",
       "\t 1 & 11 & 21 & 31 & 41\\\\\n",
       "\t 2 & 12 & 22 & 32 & 42\\\\\n",
       "\t 3 & 13 & 23 & 33 & 43\\\\\n",
       "\t 4 & 14 & 24 & 34 & 44\\\\\n",
       "\t 5 & 15 & 25 & 35 & 45\\\\\n",
       "\t 6 & 16 & 26 & 36 & 46\\\\\n",
       "\\end{tabular}\n"
      ],
      "text/markdown": [
       "\n",
       "A tibble: 6 × 5\n",
       "\n",
       "| variable_1 &lt;int&gt; | variable_2 &lt;int&gt; | variable_3 &lt;int&gt; | variable_4 &lt;int&gt; | variable_5 &lt;int&gt; |\n",
       "|---|---|---|---|---|\n",
       "| 1 | 11 | 21 | 31 | 41 |\n",
       "| 2 | 12 | 22 | 32 | 42 |\n",
       "| 3 | 13 | 23 | 33 | 43 |\n",
       "| 4 | 14 | 24 | 34 | 44 |\n",
       "| 5 | 15 | 25 | 35 | 45 |\n",
       "| 6 | 16 | 26 | 36 | 46 |\n",
       "\n"
      ],
      "text/plain": [
       "  variable_1 variable_2 variable_3 variable_4 variable_5\n",
       "1 1          11         21         31         41        \n",
       "2 2          12         22         32         42        \n",
       "3 3          13         23         33         43        \n",
       "4 4          14         24         34         44        \n",
       "5 5          15         25         35         45        \n",
       "6 6          16         26         36         46        "
      ]
     },
     "metadata": {},
     "output_type": "display_data"
    },
    {
     "data": {
      "text/html": [
       "<style>\n",
       ".dl-inline {width: auto; margin:0; padding: 0}\n",
       ".dl-inline>dt, .dl-inline>dd {float: none; width: auto; display: inline-block}\n",
       ".dl-inline>dt::after {content: \":\\0020\"; padding-right: .5ex}\n",
       ".dl-inline>dt:not(:first-of-type) {padding-left: .5ex}\n",
       "</style><dl class=dl-inline><dt>variable_1</dt><dd>3.02765035409749</dd><dt>variable_2</dt><dd>3.02765035409749</dd><dt>variable_3</dt><dd>3.02765035409749</dd><dt>variable_4</dt><dd>3.02765035409749</dd><dt>variable_5</dt><dd>3.02765035409749</dd></dl>\n"
      ],
      "text/latex": [
       "\\begin{description*}\n",
       "\\item[variable\\textbackslash{}\\_1] 3.02765035409749\n",
       "\\item[variable\\textbackslash{}\\_2] 3.02765035409749\n",
       "\\item[variable\\textbackslash{}\\_3] 3.02765035409749\n",
       "\\item[variable\\textbackslash{}\\_4] 3.02765035409749\n",
       "\\item[variable\\textbackslash{}\\_5] 3.02765035409749\n",
       "\\end{description*}\n"
      ],
      "text/markdown": [
       "variable_1\n",
       ":   3.02765035409749variable_2\n",
       ":   3.02765035409749variable_3\n",
       ":   3.02765035409749variable_4\n",
       ":   3.02765035409749variable_5\n",
       ":   3.02765035409749\n",
       "\n"
      ],
      "text/plain": [
       "variable_1 variable_2 variable_3 variable_4 variable_5 \n",
       "   3.02765    3.02765    3.02765    3.02765    3.02765 "
      ]
     },
     "metadata": {},
     "output_type": "display_data"
    }
   ],
   "source": [
    "# data_tbl becomes tibble and stdev is returned below tibble\n",
    "data_tbl <- as_tibble(matrix(1:50, ncol=5))\n",
    "colnames(data_tbl) <- c(\"variable_1\", \"variable_2\", \"variable_3\", \"variable_4\", \"variable_5\")\n",
    "head(data_tbl)\n",
    "data_sd_x <- apply(data_tbl,2,sd_x)\n",
    "data_sd_x"
   ]
  },
  {
   "cell_type": "markdown",
   "id": "dec09c62",
   "metadata": {},
   "source": [
    "### Q3\n",
    "\n",
    "* In this question, we will build a simulated dataset for healthy and diseased corals.  You will be creating a `tibble` called `coral_health_tbl` that contains 2 columns:\n",
    "\n",
    "1. A column called `coral`. Generate this column by sampling 100 coral species from the following values\n",
    "```\n",
    "coral_pop = c(\"Montipora capitata\",\n",
    "  \"Porites compressa\",\n",
    "  \"Porites lobata\")\n",
    "```\n",
    " * You can use the function `sample` to select 100 values from the vector `coral_pop`\n",
    "   * You can see how the function sample works [here](https://www.rdocumentation.org/packages/base/versions/3.6.2/topics/sample)\n",
    " \n",
    "2. The second column is called `is_diseased`.\n",
    "    * it represents 100 randomly selected `TRUE` or `FALSE` values that represent whether the coral is healthy or diseased.\n",
    "    * Healthy corals (`is_diseased == FALSE`; not diseased) occur with a probability of 0.8, i.e. (`is_diseased == TRUE`) occurs with a probability of 0.2\n"
   ]
  },
  {
   "cell_type": "code",
   "execution_count": 128,
   "id": "7bf3ae1b",
   "metadata": {},
   "outputs": [
    {
     "data": {
      "text/html": [
       "<table class=\"dataframe\">\n",
       "<caption>A tibble: 6 × 2</caption>\n",
       "<thead>\n",
       "\t<tr><th scope=col>coral</th><th scope=col>is_diseased</th></tr>\n",
       "\t<tr><th scope=col>&lt;chr&gt;</th><th scope=col>&lt;chr&gt;</th></tr>\n",
       "</thead>\n",
       "<tbody>\n",
       "\t<tr><td>Porites compressa </td><td>FALSE</td></tr>\n",
       "\t<tr><td>Porites lobata    </td><td>TRUE </td></tr>\n",
       "\t<tr><td>Monitpora capitata</td><td>FALSE</td></tr>\n",
       "\t<tr><td>Monitpora capitata</td><td>FALSE</td></tr>\n",
       "\t<tr><td>Monitpora capitata</td><td>FALSE</td></tr>\n",
       "\t<tr><td>Porites lobata    </td><td>FALSE</td></tr>\n",
       "</tbody>\n",
       "</table>\n"
      ],
      "text/latex": [
       "A tibble: 6 × 2\n",
       "\\begin{tabular}{ll}\n",
       " coral & is\\_diseased\\\\\n",
       " <chr> & <chr>\\\\\n",
       "\\hline\n",
       "\t Porites compressa  & FALSE\\\\\n",
       "\t Porites lobata     & TRUE \\\\\n",
       "\t Monitpora capitata & FALSE\\\\\n",
       "\t Monitpora capitata & FALSE\\\\\n",
       "\t Monitpora capitata & FALSE\\\\\n",
       "\t Porites lobata     & FALSE\\\\\n",
       "\\end{tabular}\n"
      ],
      "text/markdown": [
       "\n",
       "A tibble: 6 × 2\n",
       "\n",
       "| coral &lt;chr&gt; | is_diseased &lt;chr&gt; |\n",
       "|---|---|\n",
       "| Porites compressa  | FALSE |\n",
       "| Porites lobata     | TRUE  |\n",
       "| Monitpora capitata | FALSE |\n",
       "| Monitpora capitata | FALSE |\n",
       "| Monitpora capitata | FALSE |\n",
       "| Porites lobata     | FALSE |\n",
       "\n"
      ],
      "text/plain": [
       "  coral              is_diseased\n",
       "1 Porites compressa  FALSE      \n",
       "2 Porites lobata     TRUE       \n",
       "3 Monitpora capitata FALSE      \n",
       "4 Monitpora capitata FALSE      \n",
       "5 Monitpora capitata FALSE      \n",
       "6 Porites lobata     FALSE      "
      ]
     },
     "metadata": {},
     "output_type": "display_data"
    }
   ],
   "source": [
    "coral <- sample(c(\"Monitpora capitata\", \"Porites compressa\", \"Porites lobata\"), size = 100, replace = TRUE)\n",
    "is_diseased <- sample(c(TRUE, FALSE), 100, replace = TRUE, prob = c(0.2, 0.8))\n",
    "coral_health_tbl <- as_tibble(cbind(coral, is_diseased))\n",
    "head(coral_health_tbl)"
   ]
  },
  {
   "cell_type": "markdown",
   "id": "dacc2558",
   "metadata": {},
   "source": [
    "### Q4\n",
    "\n",
    "* The function `rnorm` is used to sample (i.e., produce) random values from a normal distribution. The syntax of the function is as follows:\n",
    "```\n",
    "rnorm(n, mu, sd)\n",
    "```\n",
    "where n is the number of samples to generate, mu is the mean of the distribution and `sd` is the standard deviation.\n",
    "\n",
    "Essentially what the function does is generate `n` random values from a normal distribution that is centered around the mean `mu` and has the standard deviation defined by the parameter `sd`. If you do not understand what this statement means, you should not worry as we will cover it in greater detail in the next section. However, you must know that this function generates n random values that are in some way close to the provided mean (`mu`) you provided.\n",
    "\n",
    "Use the cell below to experiment with the function `rnorm`. E.g.: try to generate 5 values from the distribution with a mean 10 and a standard deviation 1."
   ]
  },
  {
   "cell_type": "code",
   "execution_count": 7,
   "id": "9aa5b82e",
   "metadata": {},
   "outputs": [
    {
     "data": {
      "text/html": [
       "<style>\n",
       ".list-inline {list-style: none; margin:0; padding: 0}\n",
       ".list-inline>li {display: inline-block}\n",
       ".list-inline>li:not(:last-child)::after {content: \"\\00b7\"; padding: 0 .5ex}\n",
       "</style>\n",
       "<ol class=list-inline><li>10.5356160568386</li><li>8.43672505074136</li><li>10.1767506908317</li><li>10.2640738396182</li><li>10.1602102564686</li></ol>\n"
      ],
      "text/latex": [
       "\\begin{enumerate*}\n",
       "\\item 10.5356160568386\n",
       "\\item 8.43672505074136\n",
       "\\item 10.1767506908317\n",
       "\\item 10.2640738396182\n",
       "\\item 10.1602102564686\n",
       "\\end{enumerate*}\n"
      ],
      "text/markdown": [
       "1. 10.5356160568386\n",
       "2. 8.43672505074136\n",
       "3. 10.1767506908317\n",
       "4. 10.2640738396182\n",
       "5. 10.1602102564686\n",
       "\n",
       "\n"
      ],
      "text/plain": [
       "[1] 10.535616  8.436725 10.176751 10.264074 10.160210"
      ]
     },
     "metadata": {},
     "output_type": "display_data"
    }
   ],
   "source": [
    "rnorm(5, 10, 1)"
   ]
  },
  {
   "cell_type": "markdown",
   "id": "0b6d0045",
   "metadata": {},
   "source": [
    "### Q5\n",
    "* Create a new column in `coral_health_tbl` called `coral_cover`. This column represents coral cover values for the corals observed in your tibble\n",
    "* For the healthy coral (`is_diseased == FALSE`), sample the cover values from a normal with a mean of 9 and standard deviation of 2\n",
    "* For the diseased corals (`health_status = TRUE`), sample the cover values from a normal with mean 1 and std of 3\n",
    "* Note that this is a perfect scenario for using `mapply`\n"
   ]
  },
  {
   "cell_type": "code",
   "execution_count": 129,
   "id": "62db9b2d",
   "metadata": {},
   "outputs": [
    {
     "name": "stdout",
     "output_type": "stream",
     "text": [
      "[1] \"Below is a vector of healthy coral cover\"\n"
     ]
    },
    {
     "data": {
      "text/html": [
       "<style>\n",
       ".list-inline {list-style: none; margin:0; padding: 0}\n",
       ".list-inline>li {display: inline-block}\n",
       ".list-inline>li:not(:last-child)::after {content: \"\\00b7\"; padding: 0 .5ex}\n",
       "</style>\n",
       "<ol class=list-inline><li>7.84852402276774</li><li>8.19884075462693</li><li>10.99366113864</li><li>6.79606814687336</li><li>9.67892660814274</li><li>11.7769580884217</li><li>9.18566045570937</li><li>7.46966430352693</li><li>7.74574278328314</li><li>8.67572952584386</li></ol>\n"
      ],
      "text/latex": [
       "\\begin{enumerate*}\n",
       "\\item 7.84852402276774\n",
       "\\item 8.19884075462693\n",
       "\\item 10.99366113864\n",
       "\\item 6.79606814687336\n",
       "\\item 9.67892660814274\n",
       "\\item 11.7769580884217\n",
       "\\item 9.18566045570937\n",
       "\\item 7.46966430352693\n",
       "\\item 7.74574278328314\n",
       "\\item 8.67572952584386\n",
       "\\end{enumerate*}\n"
      ],
      "text/markdown": [
       "1. 7.84852402276774\n",
       "2. 8.19884075462693\n",
       "3. 10.99366113864\n",
       "4. 6.79606814687336\n",
       "5. 9.67892660814274\n",
       "6. 11.7769580884217\n",
       "7. 9.18566045570937\n",
       "8. 7.46966430352693\n",
       "9. 7.74574278328314\n",
       "10. 8.67572952584386\n",
       "\n",
       "\n"
      ],
      "text/plain": [
       " [1]  7.848524  8.198841 10.993661  6.796068  9.678927 11.776958  9.185660\n",
       " [8]  7.469664  7.745743  8.675730"
      ]
     },
     "metadata": {},
     "output_type": "display_data"
    },
    {
     "name": "stdout",
     "output_type": "stream",
     "text": [
      "[1] \"Below is a vector of diseased coral cover\"\n"
     ]
    },
    {
     "data": {
      "text/html": [
       "<style>\n",
       ".list-inline {list-style: none; margin:0; padding: 0}\n",
       ".list-inline>li {display: inline-block}\n",
       ".list-inline>li:not(:last-child)::after {content: \"\\00b7\"; padding: 0 .5ex}\n",
       "</style>\n",
       "<ol class=list-inline><li>0.355030576742017</li><li>-3.08507322104412</li><li>1.47508463686859</li><li>0.219074811227009</li><li>4.56785571172827</li><li>7.1057810705731</li><li>1.71630409690447</li><li>0.903264268752621</li><li>-1.29243478491909</li><li>-1.3325597994808</li></ol>\n"
      ],
      "text/latex": [
       "\\begin{enumerate*}\n",
       "\\item 0.355030576742017\n",
       "\\item -3.08507322104412\n",
       "\\item 1.47508463686859\n",
       "\\item 0.219074811227009\n",
       "\\item 4.56785571172827\n",
       "\\item 7.1057810705731\n",
       "\\item 1.71630409690447\n",
       "\\item 0.903264268752621\n",
       "\\item -1.29243478491909\n",
       "\\item -1.3325597994808\n",
       "\\end{enumerate*}\n"
      ],
      "text/markdown": [
       "1. 0.355030576742017\n",
       "2. -3.08507322104412\n",
       "3. 1.47508463686859\n",
       "4. 0.219074811227009\n",
       "5. 4.56785571172827\n",
       "6. 7.1057810705731\n",
       "7. 1.71630409690447\n",
       "8. 0.903264268752621\n",
       "9. -1.29243478491909\n",
       "10. -1.3325597994808\n",
       "\n",
       "\n"
      ],
      "text/plain": [
       " [1]  0.3550306 -3.0850732  1.4750846  0.2190748  4.5678557  7.1057811\n",
       " [7]  1.7163041  0.9032643 -1.2924348 -1.3325598"
      ]
     },
     "metadata": {},
     "output_type": "display_data"
    },
    {
     "name": "stdout",
     "output_type": "stream",
     "text": [
      "[1] \"Below, the two coral cover vectors will now be expertly inserted into a single column, their order based on the is_diseased column\"\n"
     ]
    },
    {
     "data": {
      "text/html": [
       "<table class=\"dataframe\">\n",
       "<caption>A tibble: 10 × 3</caption>\n",
       "<thead>\n",
       "\t<tr><th scope=col>coral</th><th scope=col>is_diseased</th><th scope=col>coral_cover</th></tr>\n",
       "\t<tr><th scope=col>&lt;chr&gt;</th><th scope=col>&lt;chr&gt;</th><th scope=col>&lt;dbl&gt;</th></tr>\n",
       "</thead>\n",
       "<tbody>\n",
       "\t<tr><td>Porites compressa </td><td>FALSE</td><td> 7.8485240</td></tr>\n",
       "\t<tr><td>Porites lobata    </td><td>TRUE </td><td> 0.3550306</td></tr>\n",
       "\t<tr><td>Monitpora capitata</td><td>FALSE</td><td> 8.1988408</td></tr>\n",
       "\t<tr><td>Monitpora capitata</td><td>FALSE</td><td>10.9936611</td></tr>\n",
       "\t<tr><td>Monitpora capitata</td><td>FALSE</td><td> 6.7960681</td></tr>\n",
       "\t<tr><td>Porites lobata    </td><td>FALSE</td><td> 9.6789266</td></tr>\n",
       "\t<tr><td>Monitpora capitata</td><td>FALSE</td><td>11.7769581</td></tr>\n",
       "\t<tr><td>Porites lobata    </td><td>FALSE</td><td> 9.1856605</td></tr>\n",
       "\t<tr><td>Monitpora capitata</td><td>FALSE</td><td> 7.4696643</td></tr>\n",
       "\t<tr><td>Monitpora capitata</td><td>FALSE</td><td> 7.7457428</td></tr>\n",
       "</tbody>\n",
       "</table>\n"
      ],
      "text/latex": [
       "A tibble: 10 × 3\n",
       "\\begin{tabular}{lll}\n",
       " coral & is\\_diseased & coral\\_cover\\\\\n",
       " <chr> & <chr> & <dbl>\\\\\n",
       "\\hline\n",
       "\t Porites compressa  & FALSE &  7.8485240\\\\\n",
       "\t Porites lobata     & TRUE  &  0.3550306\\\\\n",
       "\t Monitpora capitata & FALSE &  8.1988408\\\\\n",
       "\t Monitpora capitata & FALSE & 10.9936611\\\\\n",
       "\t Monitpora capitata & FALSE &  6.7960681\\\\\n",
       "\t Porites lobata     & FALSE &  9.6789266\\\\\n",
       "\t Monitpora capitata & FALSE & 11.7769581\\\\\n",
       "\t Porites lobata     & FALSE &  9.1856605\\\\\n",
       "\t Monitpora capitata & FALSE &  7.4696643\\\\\n",
       "\t Monitpora capitata & FALSE &  7.7457428\\\\\n",
       "\\end{tabular}\n"
      ],
      "text/markdown": [
       "\n",
       "A tibble: 10 × 3\n",
       "\n",
       "| coral &lt;chr&gt; | is_diseased &lt;chr&gt; | coral_cover &lt;dbl&gt; |\n",
       "|---|---|---|\n",
       "| Porites compressa  | FALSE |  7.8485240 |\n",
       "| Porites lobata     | TRUE  |  0.3550306 |\n",
       "| Monitpora capitata | FALSE |  8.1988408 |\n",
       "| Monitpora capitata | FALSE | 10.9936611 |\n",
       "| Monitpora capitata | FALSE |  6.7960681 |\n",
       "| Porites lobata     | FALSE |  9.6789266 |\n",
       "| Monitpora capitata | FALSE | 11.7769581 |\n",
       "| Porites lobata     | FALSE |  9.1856605 |\n",
       "| Monitpora capitata | FALSE |  7.4696643 |\n",
       "| Monitpora capitata | FALSE |  7.7457428 |\n",
       "\n"
      ],
      "text/plain": [
       "   coral              is_diseased coral_cover\n",
       "1  Porites compressa  FALSE        7.8485240 \n",
       "2  Porites lobata     TRUE         0.3550306 \n",
       "3  Monitpora capitata FALSE        8.1988408 \n",
       "4  Monitpora capitata FALSE       10.9936611 \n",
       "5  Monitpora capitata FALSE        6.7960681 \n",
       "6  Porites lobata     FALSE        9.6789266 \n",
       "7  Monitpora capitata FALSE       11.7769581 \n",
       "8  Porites lobata     FALSE        9.1856605 \n",
       "9  Monitpora capitata FALSE        7.4696643 \n",
       "10 Monitpora capitata FALSE        7.7457428 "
      ]
     },
     "metadata": {},
     "output_type": "display_data"
    }
   ],
   "source": [
    "print(\"Below is a vector of healthy coral cover\")\n",
    "not_diseased <- mapply(rnorm, coral_health_tbl$is_diseased == FALSE, 9, 2)\n",
    "head(unlist(not_diseased), n=10)\n",
    "print(\"Below is a vector of diseased coral cover\")\n",
    "yes_diseased <- mapply(rnorm, coral_health_tbl$is_diseased==TRUE, 1, 3)\n",
    "head(unlist(yes_diseased), n=10)\n",
    "print(\"Below, the two coral cover vectors will now be expertly inserted into a single column, their order based on the is_diseased column\")\n",
    "coral_health_tbl$coral_cover <- vector(mode = \"numeric\", length = 100) #initializing coral_cover column\n",
    "coral_health_tbl$coral_cover[which(coral_health_tbl$is_diseased ==FALSE)]<- as.double(not_diseased[which(coral_health_tbl$is_diseased ==FALSE)])\n",
    "coral_health_tbl$coral_cover[which(coral_health_tbl$is_diseased ==TRUE)] <- as.double(yes_diseased[which(coral_health_tbl$is_diseased ==TRUE)])\n",
    "head(coral_health_tbl, n = 10)"
   ]
  },
  {
   "cell_type": "markdown",
   "id": "fa18322d",
   "metadata": {},
   "source": [
    "### Q6\n",
    "\n",
    "* Add another column called `binary_health_status`.\n",
    " * set the column to 0 if `is_diseased == FALSE`\n",
    " * set the column to 1 if `is_diseased == TRUE`\n",
    "\n",
    "* A trick here is to remember that:\n",
    "  1. Corecing (converting) a logical can be done with `as.integer()`\n",
    "  2. `as.integer(TRUE)` returns 1\n",
    "  3. `as.integer(FALSE)` returns 0\n",
    "\n",
    "\n"
   ]
  },
  {
   "cell_type": "code",
   "execution_count": 130,
   "id": "bcf5ea16",
   "metadata": {},
   "outputs": [
    {
     "data": {
      "text/html": [
       "<style>\n",
       ".list-inline {list-style: none; margin:0; padding: 0}\n",
       ".list-inline>li {display: inline-block}\n",
       ".list-inline>li:not(:last-child)::after {content: \"\\00b7\"; padding: 0 .5ex}\n",
       "</style>\n",
       "<ol class=list-inline><li>0</li><li>1</li><li>0</li><li>0</li><li>0</li><li>0</li><li>0</li><li>0</li><li>0</li><li>0</li></ol>\n"
      ],
      "text/latex": [
       "\\begin{enumerate*}\n",
       "\\item 0\n",
       "\\item 1\n",
       "\\item 0\n",
       "\\item 0\n",
       "\\item 0\n",
       "\\item 0\n",
       "\\item 0\n",
       "\\item 0\n",
       "\\item 0\n",
       "\\item 0\n",
       "\\end{enumerate*}\n"
      ],
      "text/markdown": [
       "1. 0\n",
       "2. 1\n",
       "3. 0\n",
       "4. 0\n",
       "5. 0\n",
       "6. 0\n",
       "7. 0\n",
       "8. 0\n",
       "9. 0\n",
       "10. 0\n",
       "\n",
       "\n"
      ],
      "text/plain": [
       " [1] 0 1 0 0 0 0 0 0 0 0"
      ]
     },
     "metadata": {},
     "output_type": "display_data"
    }
   ],
   "source": [
    "coral_health_tbl$binary_health_status <- vector(mode = \"numeric\", length = 100)\n",
    "coral_health_tbl$binary_health_status[coral_health_tbl$is_diseased ==TRUE] <- 1\n",
    "head(coral_health_tbl$binary_health_status, n =10)"
   ]
  },
  {
   "cell_type": "markdown",
   "id": "a6e28e80",
   "metadata": {},
   "source": [
    "### Q7\n",
    "\n",
    "The following is the distribution of `coral_cover` for healthy versus diseased corals"
   ]
  },
  {
   "cell_type": "code",
   "execution_count": 131,
   "id": "0a2075c6",
   "metadata": {
    "scrolled": true
   },
   "outputs": [
    {
     "data": {
      "image/png": "[encoded data removed]",
      "text/plain": [
       "plot without title"
      ]
     },
     "metadata": {
      "image/png": {
       "height": 420,
       "width": 420
      }
     },
     "output_type": "display_data"
    }
   ],
   "source": [
    "ggplot(data = coral_health_tbl) +\n",
    "     geom_histogram(mapping = aes(x = coral_cover, y = stat(count/sum(count)), fill = is_diseased), col=I(\"white\"), binwidth = 1)+\n",
    "labs(title = \"Normalized coral cover counts for diseased and healthy corals\", fill = \"Diseased?\") +\n",
    "xlab(\"Coral Cover\") + \n",
    "ylab(\"Normalized count\")"
   ]
  },
  {
   "cell_type": "code",
   "execution_count": 132,
   "id": "659c0ac8",
   "metadata": {
    "scrolled": true
   },
   "outputs": [
    {
     "data": {
      "image/png": "[encoded data removed]",
      "text/plain": [
       "plot without title"
      ]
     },
     "metadata": {
      "image/png": {
       "height": 420,
       "width": 420
      }
     },
     "output_type": "display_data"
    }
   ],
   "source": [
    "ggplot(data = coral_health_tbl) +\n",
    "     geom_density(mapping = aes(x = coral_cover, y = stat(count/sum(count)), fill = coral), adjust =2, alpha = 0.5)+\n",
    "labs(title = \"Total coral coverage per species\", fill = \"Species\") +\n",
    "xlab(\"Coral cover\") + \n",
    "ylab(\"Normalized density\") + \n",
    "xlim(-15, 25)"
   ]
  },
  {
   "cell_type": "markdown",
   "id": "8c811bda",
   "metadata": {},
   "source": [
    "### Q9"
   ]
  },
  {
   "attachments": {
    "Week_4_q9.png": {
     "image/png": "[encoded data removed]"
    }
   },
   "cell_type": "markdown",
   "id": "5784eb69",
   "metadata": {},
   "source": [
    "The following photo is an example of tidy data, as the data was reorganized into a single table, with each row containing the full set of variables for that observation and each column containing only one variable. This is the simplest format from which to wrangle and manipulate data. \n",
    "![Week_4_q9.png](attachment:Week_4_q9.png)photo\n",
    "https://www.dropbox.com/s/2hcukev10evvyjc/Week_4_q9.png?dl=1"
   ]
  },
  {
   "cell_type": "markdown",
   "id": "784fa644",
   "metadata": {},
   "source": [
    "### Q10 -- Challenge (Optional)\n",
    "\n",
    "\n",
    "Recall problem `8` in the airquality dataset.\n",
    "  * Remember that you can import that dataset using `data(airquality)`\n",
    "1. Convert the `airquality` dataframe to a tibble called `airq_tbl`\n",
    "2. Replace the missing values for Solar.R using that month's average.\n",
    "    * Example:\n",
    "        * The missing value for line 6 in `airq_tbl`should be replaced with the average for month 5.\n",
    "        * The missing value for line 97 in `airq_tbl` should be replaced with the average for month 8.\n",
    "\n",
    "* Strategy:\n",
    "  1. Compute the average values for months 5, 6, 7, 8, and 9 in a names vector called `monthly_avg_SolarR`\n",
    "      * monthly_avg_SolarR[5] should return the average for May.\n",
    "      * monthly_avg_SolarR[6] should return the average for June.\n",
    "      * etc.\n",
    "      * This is an ideal use case for `tapply` with `na.rm=TRUE` (ask me!)\n",
    "  2. for each line of airq_tbl check value of Solar.R and do:\n",
    "    * if value is not `na`, return the value\n",
    "    * if value if `na`; return avg associated with `Month`\n",
    "    * This is an ideal case for `apply`\n",
    "      * You need to write your own function (call it `fix_missing_solar_R`)\n",
    "      * Recall that the argument to that function is a complete row as a vector!\n",
    "    * test your function with the following line to make sure it's working\n",
    "    ```fix_missing_solar_R(airq_tbl[5,])```"
   ]
  }
 ],
 "metadata": {
  "kernelspec": {
   "display_name": "R",
   "language": "R",
   "name": "ir"
  },
  "language_info": {
   "codemirror_mode": "r",
   "file_extension": ".r",
   "mimetype": "text/x-r-source",
   "name": "R",
   "pygments_lexer": "r",
   "version": "4.1.3"
  }
 },
 "nbformat": 4,
 "nbformat_minor": 5
}
