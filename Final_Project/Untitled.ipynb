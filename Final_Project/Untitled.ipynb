{
 "cells": [
  {
   "cell_type": "code",
   "execution_count": 8,
   "id": "77845dcd",
   "metadata": {},
   "outputs": [
    {
     "name": "stderr",
     "output_type": "stream",
     "text": [
      "\n",
      "Attaching package: 'dplyr'\n",
      "\n",
      "\n",
      "The following objects are masked from 'package:stats':\n",
      "\n",
      "    filter, lag\n",
      "\n",
      "\n",
      "The following objects are masked from 'package:base':\n",
      "\n",
      "    intersect, setdiff, setequal, union\n",
      "\n",
      "\n"
     ]
    }
   ],
   "source": [
    "library(dplyr)"
   ]
  },
  {
   "cell_type": "code",
   "execution_count": 5,
   "id": "1d800bd2",
   "metadata": {},
   "outputs": [
    {
     "data": {
      "text/html": [
       "<table class=\"dataframe\">\n",
       "<caption>A data.frame: 12 × 4</caption>\n",
       "<thead>\n",
       "\t<tr><th scope=col>vector1</th><th scope=col>vector2</th><th scope=col>vector3</th><th scope=col>column1</th></tr>\n",
       "\t<tr><th scope=col>&lt;chr&gt;</th><th scope=col>&lt;chr&gt;</th><th scope=col>&lt;dbl&gt;</th><th scope=col>&lt;dbl&gt;</th></tr>\n",
       "</thead>\n",
       "<tbody>\n",
       "\t<tr><td>spec1</td><td>temp1</td><td>300</td><td> 2</td></tr>\n",
       "\t<tr><td>spec1</td><td>temp1</td><td>300</td><td> 2</td></tr>\n",
       "\t<tr><td>spec1</td><td>temp1</td><td>300</td><td> 2</td></tr>\n",
       "\t<tr><td>spec1</td><td>temp1</td><td>300</td><td> 2</td></tr>\n",
       "\t<tr><td>spec1</td><td>temp1</td><td>300</td><td> 5</td></tr>\n",
       "\t<tr><td>spec1</td><td>temp1</td><td>300</td><td> 5</td></tr>\n",
       "\t<tr><td>spec2</td><td>temp2</td><td>500</td><td> 5</td></tr>\n",
       "\t<tr><td>spec2</td><td>temp2</td><td>500</td><td> 5</td></tr>\n",
       "\t<tr><td>spec2</td><td>temp2</td><td>500</td><td>11</td></tr>\n",
       "\t<tr><td>spec2</td><td>temp2</td><td>500</td><td>11</td></tr>\n",
       "\t<tr><td>spec2</td><td>temp2</td><td>500</td><td>11</td></tr>\n",
       "\t<tr><td>spec2</td><td>temp2</td><td>500</td><td>11</td></tr>\n",
       "</tbody>\n",
       "</table>\n"
      ],
      "text/latex": [
       "A data.frame: 12 × 4\n",
       "\\begin{tabular}{llll}\n",
       " vector1 & vector2 & vector3 & column1\\\\\n",
       " <chr> & <chr> & <dbl> & <dbl>\\\\\n",
       "\\hline\n",
       "\t spec1 & temp1 & 300 &  2\\\\\n",
       "\t spec1 & temp1 & 300 &  2\\\\\n",
       "\t spec1 & temp1 & 300 &  2\\\\\n",
       "\t spec1 & temp1 & 300 &  2\\\\\n",
       "\t spec1 & temp1 & 300 &  5\\\\\n",
       "\t spec1 & temp1 & 300 &  5\\\\\n",
       "\t spec2 & temp2 & 500 &  5\\\\\n",
       "\t spec2 & temp2 & 500 &  5\\\\\n",
       "\t spec2 & temp2 & 500 & 11\\\\\n",
       "\t spec2 & temp2 & 500 & 11\\\\\n",
       "\t spec2 & temp2 & 500 & 11\\\\\n",
       "\t spec2 & temp2 & 500 & 11\\\\\n",
       "\\end{tabular}\n"
      ],
      "text/markdown": [
       "\n",
       "A data.frame: 12 × 4\n",
       "\n",
       "| vector1 &lt;chr&gt; | vector2 &lt;chr&gt; | vector3 &lt;dbl&gt; | column1 &lt;dbl&gt; |\n",
       "|---|---|---|---|\n",
       "| spec1 | temp1 | 300 |  2 |\n",
       "| spec1 | temp1 | 300 |  2 |\n",
       "| spec1 | temp1 | 300 |  2 |\n",
       "| spec1 | temp1 | 300 |  2 |\n",
       "| spec1 | temp1 | 300 |  5 |\n",
       "| spec1 | temp1 | 300 |  5 |\n",
       "| spec2 | temp2 | 500 |  5 |\n",
       "| spec2 | temp2 | 500 |  5 |\n",
       "| spec2 | temp2 | 500 | 11 |\n",
       "| spec2 | temp2 | 500 | 11 |\n",
       "| spec2 | temp2 | 500 | 11 |\n",
       "| spec2 | temp2 | 500 | 11 |\n",
       "\n"
      ],
      "text/plain": [
       "   vector1 vector2 vector3 column1\n",
       "1  spec1   temp1   300      2     \n",
       "2  spec1   temp1   300      2     \n",
       "3  spec1   temp1   300      2     \n",
       "4  spec1   temp1   300      2     \n",
       "5  spec1   temp1   300      5     \n",
       "6  spec1   temp1   300      5     \n",
       "7  spec2   temp2   500      5     \n",
       "8  spec2   temp2   500      5     \n",
       "9  spec2   temp2   500     11     \n",
       "10 spec2   temp2   500     11     \n",
       "11 spec2   temp2   500     11     \n",
       "12 spec2   temp2   500     11     "
      ]
     },
     "metadata": {},
     "output_type": "display_data"
    }
   ],
   "source": [
    "vector1 <- c(rep(\"spec1\", 6), rep(\"spec2\", 6))\n",
    "vector2 <- c(rep(\"temp1\", 6), rep(\"temp2\",6))\n",
    "vector3 <- c(rep(300, 6), rep(500, 6))\n",
    "column1 <- c(rep(2, 4), rep(5,4), rep(11,4))\n",
    "my_df <- data.frame(vector1, vector2, vector3, column1)\n",
    "my_df"
   ]
  },
  {
   "cell_type": "code",
   "execution_count": 23,
   "id": "db62458b",
   "metadata": {},
   "outputs": [],
   "source": [
    "my_function <- function(a, b, c){\n",
    "    tmp_output <- subset(my_df, vector1== a & vector2 == b & vector3 ==c, select = column1) %>% colSums\n",
    "    return(tmp_output)\n",
    "}"
   ]
  },
  {
   "cell_type": "code",
   "execution_count": 26,
   "id": "01147356",
   "metadata": {},
   "outputs": [
    {
     "data": {
      "text/html": [
       "<strong>column1:</strong> 18"
      ],
      "text/latex": [
       "\\textbf{column1:} 18"
      ],
      "text/markdown": [
       "**column1:** 18"
      ],
      "text/plain": [
       "column1 \n",
       "     18 "
      ]
     },
     "metadata": {},
     "output_type": "display_data"
    }
   ],
   "source": [
    "my_function(\"spec1\", \"temp1\", 300)"
   ]
  },
  {
   "cell_type": "code",
   "execution_count": 19,
   "id": "957ce76e",
   "metadata": {},
   "outputs": [
    {
     "name": "stderr",
     "output_type": "stream",
     "text": [
      "Warning message in if (drop) {:\n",
      "\"the condition has length > 1 and only the first element will be used\"\n",
      "Warning message in if (!drop) {:\n",
      "\"the condition has length > 1 and only the first element will be used\"\n"
     ]
    }
   ],
   "source": [
    "tmp_output <- subset(my_df, vector1== \"spec1\", vector2== \"temp2\", vector3== 300, select= column1) %>% sum"
   ]
  },
  {
   "cell_type": "code",
   "execution_count": 20,
   "id": "00c47891",
   "metadata": {},
   "outputs": [
    {
     "data": {
      "text/html": [
       "18"
      ],
      "text/latex": [
       "18"
      ],
      "text/markdown": [
       "18"
      ],
      "text/plain": [
       "[1] 18"
      ]
     },
     "metadata": {},
     "output_type": "display_data"
    }
   ],
   "source": [
    "tmp_output"
   ]
  }
 ],
 "metadata": {
  "kernelspec": {
   "display_name": "R",
   "language": "R",
   "name": "ir"
  },
  "language_info": {
   "codemirror_mode": "r",
   "file_extension": ".r",
   "mimetype": "text/x-r-source",
   "name": "R",
   "pygments_lexer": "r",
   "version": "4.1.3"
  }
 },
 "nbformat": 4,
 "nbformat_minor": 5
}
