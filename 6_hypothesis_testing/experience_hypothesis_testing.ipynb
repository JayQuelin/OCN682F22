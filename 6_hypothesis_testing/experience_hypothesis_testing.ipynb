{
 "cells": [
  {
   "cell_type": "code",
   "execution_count": 2,
   "id": "e3ff195c",
   "metadata": {},
   "outputs": [],
   "source": [
    "library(tibble)\n",
    "library(ggplot2)"
   ]
  },
  {
   "cell_type": "markdown",
   "id": "d0486091",
   "metadata": {},
   "source": [
    "Let's use the code provided below to generate a dataset representing two populations, each sampled from a Guassian with a specific population mean. Here I am generating only 5 samples"
   ]
  },
  {
   "cell_type": "code",
   "execution_count": 3,
   "id": "3b0a10f7",
   "metadata": {},
   "outputs": [
    {
     "data": {
      "text/html": [
       "<table class=\"dataframe\">\n",
       "<caption>A tibble: 6 × 2</caption>\n",
       "<thead>\n",
       "\t<tr><th scope=col>measure</th><th scope=col>site_name</th></tr>\n",
       "\t<tr><th scope=col>&lt;dbl&gt;</th><th scope=col>&lt;chr&gt;</th></tr>\n",
       "</thead>\n",
       "<tbody>\n",
       "\t<tr><td> 8.718215</td><td>Site 1</td></tr>\n",
       "\t<tr><td> 8.757603</td><td>Site 1</td></tr>\n",
       "\t<tr><td>10.108568</td><td>Site 1</td></tr>\n",
       "\t<tr><td> 7.429724</td><td>Site 1</td></tr>\n",
       "\t<tr><td> 9.347544</td><td>Site 1</td></tr>\n",
       "\t<tr><td>12.176091</td><td>Site 2</td></tr>\n",
       "</tbody>\n",
       "</table>\n"
      ],
      "text/latex": [
       "A tibble: 6 × 2\n",
       "\\begin{tabular}{ll}\n",
       " measure & site\\_name\\\\\n",
       " <dbl> & <chr>\\\\\n",
       "\\hline\n",
       "\t  8.718215 & Site 1\\\\\n",
       "\t  8.757603 & Site 1\\\\\n",
       "\t 10.108568 & Site 1\\\\\n",
       "\t  7.429724 & Site 1\\\\\n",
       "\t  9.347544 & Site 1\\\\\n",
       "\t 12.176091 & Site 2\\\\\n",
       "\\end{tabular}\n"
      ],
      "text/markdown": [
       "\n",
       "A tibble: 6 × 2\n",
       "\n",
       "| measure &lt;dbl&gt; | site_name &lt;chr&gt; |\n",
       "|---|---|\n",
       "|  8.718215 | Site 1 |\n",
       "|  8.757603 | Site 1 |\n",
       "| 10.108568 | Site 1 |\n",
       "|  7.429724 | Site 1 |\n",
       "|  9.347544 | Site 1 |\n",
       "| 12.176091 | Site 2 |\n",
       "\n"
      ],
      "text/plain": [
       "  measure   site_name\n",
       "1  8.718215 Site 1   \n",
       "2  8.757603 Site 1   \n",
       "3 10.108568 Site 1   \n",
       "4  7.429724 Site 1   \n",
       "5  9.347544 Site 1   \n",
       "6 12.176091 Site 2   "
      ]
     },
     "metadata": {},
     "output_type": "display_data"
    }
   ],
   "source": [
    "data_1 <- tibble(measure=rnorm(5, 10, 1))\n",
    "data_1$site_name <- 'Site 1'\n",
    "data_2 <- tibble(measure=rnorm(5, 12, 1))\n",
    "data_2$site_name <- 'Site 2'\n",
    "complete_data <- rbind(data_1, data_2)\n",
    "head(complete_data)"
   ]
  },
  {
   "cell_type": "markdown",
   "id": "e08bf2cf",
   "metadata": {},
   "source": [
    "* I compute the mean of the dataset above using the following code:\n",
    "  * feel free to deconstruct the code to see what each chunk does.\n"
   ]
  },
  {
   "cell_type": "code",
   "execution_count": 4,
   "id": "dde6ba00",
   "metadata": {},
   "outputs": [
    {
     "data": {
      "text/html": [
       "8.87233090392221"
      ],
      "text/latex": [
       "8.87233090392221"
      ],
      "text/markdown": [
       "8.87233090392221"
      ],
      "text/plain": [
       "[1] 8.872331"
      ]
     },
     "metadata": {},
     "output_type": "display_data"
    },
    {
     "data": {
      "text/html": [
       "12.130665544285"
      ],
      "text/latex": [
       "12.130665544285"
      ],
      "text/markdown": [
       "12.130665544285"
      ],
      "text/plain": [
       "[1] 12.13067"
      ]
     },
     "metadata": {},
     "output_type": "display_data"
    }
   ],
   "source": [
    "mean(complete_data[complete_data$site_name == \"Site 1\", ]$measure)\n",
    "mean(complete_data[complete_data$site_name == \"Site 2\", ]$measure)"
   ]
  },
  {
   "cell_type": "markdown",
   "id": "1ac520b8",
   "metadata": {},
   "source": [
    "* Use the `tapply` function instead of the code above to compute the means samples from \"Site 1\" and those from site 2\n",
    "  * See tapply for help if needed."
   ]
  },
  {
   "cell_type": "code",
   "execution_count": 5,
   "id": "501355df",
   "metadata": {},
   "outputs": [
    {
     "data": {
      "text/html": [
       "<style>\n",
       ".dl-inline {width: auto; margin:0; padding: 0}\n",
       ".dl-inline>dt, .dl-inline>dd {float: none; width: auto; display: inline-block}\n",
       ".dl-inline>dt::after {content: \":\\0020\"; padding-right: .5ex}\n",
       ".dl-inline>dt:not(:first-of-type) {padding-left: .5ex}\n",
       "</style><dl class=dl-inline><dt>Site 1</dt><dd>8.87233090392221</dd><dt>Site 2</dt><dd>12.130665544285</dd></dl>\n"
      ],
      "text/latex": [
       "\\begin{description*}\n",
       "\\item[Site 1] 8.87233090392221\n",
       "\\item[Site 2] 12.130665544285\n",
       "\\end{description*}\n"
      ],
      "text/markdown": [
       "Site 1\n",
       ":   8.87233090392221Site 2\n",
       ":   12.130665544285\n",
       "\n"
      ],
      "text/plain": [
       "   Site 1    Site 2 \n",
       " 8.872331 12.130666 "
      ]
     },
     "metadata": {},
     "output_type": "display_data"
    }
   ],
   "source": [
    "tapply(complete_data$measure, complete_data$site_name, mean)"
   ]
  },
  {
   "cell_type": "markdown",
   "id": "fd91de00",
   "metadata": {},
   "source": [
    "Q.2 \n",
    "\n",
    "* Use the bootstrapping-procedure covered in class to assess whether there is a statistically significant difference between the data in `Site 1` and that in `Site 2`.\n",
    "\n",
    "Make sure you follow the approach discussed in class and which consists of:\n",
    "\n",
    "1. Selecting an appropriate test statistic\n",
    "2. Bootstrapping a a distribuion for the observed statistic under the null hypothesis\n",
    "3. Desciding whether to accept or reject the null based on the probability of the null\n",
    "4. provide a p-value to support your decision.\n"
   ]
  },
  {
   "cell_type": "code",
   "execution_count": 6,
   "id": "f129769f",
   "metadata": {
    "scrolled": true
   },
   "outputs": [],
   "source": [
    "data_1 <- tibble(measure=rnorm(40, 10, 1))\n",
    "data_1$site_name <- 'Site 1'\n",
    "data_2 <- tibble(measure=rnorm(40, 13, 1))\n",
    "data_2$site_name <- 'Site 2'\n",
    "complete_data <- rbind(data_1, data_2)"
   ]
  },
  {
   "cell_type": "code",
   "execution_count": 7,
   "id": "270352ca",
   "metadata": {},
   "outputs": [
    {
     "data": {
      "text/html": [
       "<style>\n",
       ".dl-inline {width: auto; margin:0; padding: 0}\n",
       ".dl-inline>dt, .dl-inline>dd {float: none; width: auto; display: inline-block}\n",
       ".dl-inline>dt::after {content: \":\\0020\"; padding-right: .5ex}\n",
       ".dl-inline>dt:not(:first-of-type) {padding-left: .5ex}\n",
       "</style><dl class=dl-inline><dt>Site 1</dt><dd>10.0547280832637</dd><dt>Site 2</dt><dd>13.205163987063</dd></dl>\n"
      ],
      "text/latex": [
       "\\begin{description*}\n",
       "\\item[Site 1] 10.0547280832637\n",
       "\\item[Site 2] 13.205163987063\n",
       "\\end{description*}\n"
      ],
      "text/markdown": [
       "Site 1\n",
       ":   10.0547280832637Site 2\n",
       ":   13.205163987063\n",
       "\n"
      ],
      "text/plain": [
       "  Site 1   Site 2 \n",
       "10.05473 13.20516 "
      ]
     },
     "metadata": {},
     "output_type": "display_data"
    }
   ],
   "source": [
    "tapply(complete_data$measure, complete_data$site_name, mean)"
   ]
  },
  {
   "cell_type": "markdown",
   "id": "36f886b6",
   "metadata": {},
   "source": [
    "#### Q2.0 \n",
    "\n",
    "Complete the following by describing the null and the alternative hypotheses we are testing here.\n"
   ]
  },
  {
   "cell_type": "code",
   "execution_count": 71,
   "id": "c719444e",
   "metadata": {},
   "outputs": [
    {
     "name": "stdout",
     "output_type": "stream",
     "text": [
      "[1] \"If there is no statistically significant difference between data_1 and data_2, the null hypothesis is accepted. If the difference between the two datasets is unlikely to have arisen from chance, the null hypothesis is rejected and the alternative hypothesis is not rejected.\"\n"
     ]
    }
   ],
   "source": [
    "print(\"If there is no statistically significant difference between data_1 and data_2, the null hypothesis is accepted. If the difference between the two datasets is unlikely to have arisen from chance, the null hypothesis is rejected and the alternative hypothesis is not rejected.\")\n"
   ]
  },
  {
   "cell_type": "markdown",
   "id": "638ce673",
   "metadata": {},
   "source": [
    "#### Q.2.1 \n",
    "\n",
    "Produce a graph similar the one below (geom_density) display the distributions. If you're using the same seed as mine, your graph will look exactly the same as the one below \n",
    "\n",
    "![](https://www.dropbox.com/s/rz5jxm84kk8ac1m/dist.png?dl=1)"
   ]
  },
  {
   "cell_type": "code",
   "execution_count": 73,
   "id": "83243f10",
   "metadata": {},
   "outputs": [
    {
     "name": "stdout",
     "output_type": "stream",
     "text": [
      "[1] \"Looks a little bit not Gaussian to me... not sure if anything is wrong.\"\n"
     ]
    },
    {
     "data": {
      "image/png": "[encoded data removed]",
      "text/plain": [
       "plot without title"
      ]
     },
     "metadata": {
      "image/png": {
       "height": 420,
       "width": 420
      }
     },
     "output_type": "display_data"
    }
   ],
   "source": [
    "ggplot(complete_data, aes(x = measure, fill = site_name))+\n",
    "geom_density(alpha = 0.4) +\n",
    "xlim(5, 20)\n",
    "print(\"Looks a little bit not Gaussian to me... not sure if anything is wrong.\")"
   ]
  },
  {
   "cell_type": "markdown",
   "id": "2ce7e15e",
   "metadata": {},
   "source": [
    "Q2.2 Select a proper test statistic and produce a distribution of the statistic under the null hypothesis. Plot the data as both a histogram and density curves. Your graph may look like this.\n",
    "\n",
    "![](https://www.dropbox.com/s/3jarqg9swneai0r/mean_under_null.png?dl=1)"
   ]
  },
  {
   "cell_type": "code",
   "execution_count": 86,
   "id": "8d295234",
   "metadata": {},
   "outputs": [
    {
     "name": "stdout",
     "output_type": "stream",
     "text": [
      "[1] \"This cell calculates the difference in means between one set of shuffled data\"\n"
     ]
    }
   ],
   "source": [
    "mean_diff <- function(complete_data){\n",
    "    \n",
    "shuffled_data <- sample(complete_data$measure)\n",
    "new_data_1 <- shuffled_data[1:(length(shuffled_data)/2)]\n",
    "new_data_2 <- shuffled_data[(length(shuffled_data)/2 + 1):length(shuffled_data)]\n",
    "mean(new_data_1) - mean(new_data_2)\n",
    "}\n",
    "\n",
    "print(\"This cell calculates the difference in means between one set of shuffled data\")"
   ]
  },
  {
   "cell_type": "code",
   "execution_count": 85,
   "id": "a794722b",
   "metadata": {},
   "outputs": [
    {
     "name": "stderr",
     "output_type": "stream",
     "text": [
      "Warning message:\n",
      "\"Removed 2 rows containing missing values (geom_bar).\"\n"
     ]
    },
    {
     "data": {
      "image/png": "[encoded data removed]",
      "text/plain": [
       "plot without title"
      ]
     },
     "metadata": {
      "image/png": {
       "height": 420,
       "width": 420
      }
     },
     "output_type": "display_data"
    }
   ],
   "source": [
    "diff_null <- replicate(1000, mean_diff(complete_data))\n",
    "observed_means <- tapply(complete_data$measure, complete_data$site_name, mean)\n",
    "diff_observed <- observed_means[1] - observed_means[2]\n",
    "test_plot <- ggplot()+\n",
    "  geom_histogram(aes(diff_null, y=..density..), bins =30, alpha=0.2, color=\"black\") +\n",
    "  geom_density(aes(diff_null), bw=0.2, size=1.5) + \n",
    "  xlim(-4, 4)\n",
    "\n",
    "test_plot"
   ]
  },
  {
   "cell_type": "markdown",
   "id": "4f03ae0d",
   "metadata": {},
   "source": [
    "####  Q2.3. \n",
    "\n",
    "Calculate and plot the observed statistic on the graph you created in Q.2.2. \n"
   ]
  },
  {
   "cell_type": "code",
   "execution_count": 13,
   "id": "cafc48b5",
   "metadata": {},
   "outputs": [
    {
     "name": "stderr",
     "output_type": "stream",
     "text": [
      "Warning message:\n",
      "\"Removed 2 rows containing missing values (geom_bar).\"\n"
     ]
    },
    {
     "data": {
      "image/png": "[encoded data removed]",
      "text/plain": [
       "plot without title"
      ]
     },
     "metadata": {
      "image/png": {
       "height": 420,
       "width": 420
      }
     },
     "output_type": "display_data"
    }
   ],
   "source": [
    "test_plot + geom_point(aes(x=diff_observed, y=0), color = \"red\", size = 5)"
   ]
  },
  {
   "cell_type": "code",
   "execution_count": null,
   "id": "df6e6ba2",
   "metadata": {},
   "outputs": [],
   "source": [
    "#### Q2.4 \n",
    "compute the p-vlaue of the observed statistic under the null. What do you conclude about the hypotheses you enunciated in Q"
   ]
  },
  {
   "cell_type": "code",
   "execution_count": 114,
   "id": "1d49ce59",
   "metadata": {},
   "outputs": [
    {
     "data": {
      "text/html": [
       "'The p-value of the observed statistic under the null is 0, therefore we reject the null hypothesis'"
      ],
      "text/latex": [
       "'The p-value of the observed statistic under the null is 0, therefore we reject the null hypothesis'"
      ],
      "text/markdown": [
       "'The p-value of the observed statistic under the null is 0, therefore we reject the null hypothesis'"
      ],
      "text/plain": [
       "[1] \"The p-value of the observed statistic under the null is 0, therefore we reject the null hypothesis\""
      ]
     },
     "metadata": {},
     "output_type": "display_data"
    }
   ],
   "source": [
    "p_value <- sum(diff_null > diff_observed)  / length(diff_null)\n",
    "sprintf(\"The p-value of the observed statistic under the null is %s, therefore we reject the null hypothesis\", p_value)"
   ]
  },
  {
   "cell_type": "markdown",
   "id": "71226301",
   "metadata": {},
   "source": [
    "#### Q.3 \n",
    "\n",
    "* The proportion of the of _P. lobata_, _M. capitata_ and _P. mendrina_ at a site X are c(0.60, 0.19, 0.21).\n",
    "* You surveyed site Y with different environmental conditions and obtains the following proportions for the three corals (0.61, 0.19, 0.20). Use the multinomial non-parametric hypotheses test to assess whether the proportions obtained at sites X and Y are statistically different.\n",
    "\n",
    "\n",
    "Although not explicitly required, your test should cover all the steps in Q2, i.e. appropriate graph(s) when possible, test statistics, and conclusion."
   ]
  },
  {
   "cell_type": "code",
   "execution_count": 25,
   "id": "bc12ada3",
   "metadata": {},
   "outputs": [],
   "source": [
    "coral <- rep(c(\"P. lobata\", \"M. capitata\", \"P. mendrina\"), 2)\n",
    "prop_X <- c(0.60, 0.19, 0.21)\n",
    "prop_Y <- c(0.61, 0.19, 0.20)\n",
    "site_name <- c(rep(\"Site_X\", 3), rep(\"Site_Y\", 3))\n",
    "concat_XY <- c(prop_X, prop_Y)\n",
    "data_coral <- tibble(cbind(site_name, corals, concat_XY))"
   ]
  },
  {
   "cell_type": "code",
   "execution_count": 42,
   "id": "a74c5e03",
   "metadata": {},
   "outputs": [
    {
     "data": {
      "image/png": "[encoded data removed]",
      "text/plain": [
       "plot without title"
      ]
     },
     "metadata": {
      "image/png": {
       "height": 420,
       "width": 420
      }
     },
     "output_type": "display_data"
    }
   ],
   "source": [
    "ggplot(data_coral, aes(fill=site_name, x=concat_XY, y=coral)) + \n",
    "    geom_bar(position=\"dodge\", stat=\"identity\") +\n",
    "    ggtitle(\"Proportion of coral cover per species at site X vs site Y\") +\n",
    "    xlab(\"Proportion of coral coverage\") +\n",
    "    theme(axis.title.y = element_text(size = 15)) +\n",
    "    coord_flip()"
   ]
  },
  {
   "cell_type": "code",
   "execution_count": 63,
   "id": "ca15b2d4",
   "metadata": {},
   "outputs": [],
   "source": [
    "sample_tvd <- function(prop_x, prop_y){\n",
    "    sampled_x <- rmultinom(1, 100, prop_x) /100\n",
    "    sampled_y <- rmultinom(1, 100, prop_y) /100\n",
    "    sampled_diff <- sum(abs(sampled_x - sampled_y)) / 2\n",
    "    sampled_diff\n",
    "}\n",
    "tvds <- replicate(1000, sample_tvd(prop_X, prop_Y))\n",
    "observed_diff <- sum(abs(prop_X - prop_Y)) / 2"
   ]
  },
  {
   "cell_type": "code",
   "execution_count": 83,
   "id": "02226660",
   "metadata": {},
   "outputs": [
    {
     "data": {
      "image/png": "[encoded data removed]",
      "text/plain": [
       "plot without title"
      ]
     },
     "metadata": {
      "image/png": {
       "height": 420,
       "width": 420
      }
     },
     "output_type": "display_data"
    }
   ],
   "source": [
    "ggplot() +\n",
    "    geom_histogram(aes(x= tvds, y= ..density..), bins = 20) +\n",
    "    geom_point(aes(x = observed_diff, y= 0), color = \"red\", size = 10) +\n",
    "    annotate(geom=\"text\", x=0.07, y=1, label=sprintf(\"Observed diff between X and Y is %s\", observed_diff), color=\"red\") +\n",
    "    ggtitle(\"The density of 1000 sampled total variation distances in coral cover proportions between site X and site Y\") +\n",
    "    xlab(\"Total variation distance in coral cover proportions\")"
   ]
  },
  {
   "cell_type": "code",
   "execution_count": 70,
   "id": "63215d8d",
   "metadata": {},
   "outputs": [
    {
     "data": {
      "text/html": [
       "'The p-value of the observed distance under the null is 0.985, so we accept the null hypothesis'"
      ],
      "text/latex": [
       "'The p-value of the observed distance under the null is 0.985, so we accept the null hypothesis'"
      ],
      "text/markdown": [
       "'The p-value of the observed distance under the null is 0.985, so we accept the null hypothesis'"
      ],
      "text/plain": [
       "[1] \"The p-value of the observed distance under the null is 0.985, so we accept the null hypothesis\""
      ]
     },
     "metadata": {},
     "output_type": "display_data"
    }
   ],
   "source": [
    "p_value <- sum(tvds > observed_diff) / length(tvds)\n",
    "sprintf(\"The p-value of the observed distance under the null is %s, so we accept the null hypothesis\", p_value)"
   ]
  }
 ],
 "metadata": {
  "kernelspec": {
   "display_name": "R",
   "language": "R",
   "name": "ir"
  },
  "language_info": {
   "codemirror_mode": "r",
   "file_extension": ".r",
   "mimetype": "text/x-r-source",
   "name": "R",
   "pygments_lexer": "r",
   "version": "4.1.3"
  }
 },
 "nbformat": 4,
 "nbformat_minor": 5
}
