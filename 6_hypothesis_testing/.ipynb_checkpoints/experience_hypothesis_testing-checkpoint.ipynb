{
 "cells": [
  {
   "cell_type": "code",
   "execution_count": 53,
   "id": "e3ff195c",
   "metadata": {},
   "outputs": [],
   "source": [
    "library(tibble)\n",
    "library(ggplot2)"
   ]
  },
  {
   "cell_type": "markdown",
   "id": "d0486091",
   "metadata": {},
   "source": [
    "Let's use the code provided below to generate a dataset representing two populations, each sampled from a Guassian with a specific population mean. Here I am generating only 5 samples"
   ]
  },
  {
   "cell_type": "code",
   "execution_count": 88,
   "id": "3b0a10f7",
   "metadata": {},
   "outputs": [
    {
     "data": {
      "text/html": [
       "<table class=\"dataframe\">\n",
       "<caption>A tibble: 6 × 2</caption>\n",
       "<thead>\n",
       "\t<tr><th scope=col>measure</th><th scope=col>site_name</th></tr>\n",
       "\t<tr><th scope=col>&lt;dbl&gt;</th><th scope=col>&lt;chr&gt;</th></tr>\n",
       "</thead>\n",
       "<tbody>\n",
       "\t<tr><td>11.419961</td><td>Site 1</td></tr>\n",
       "\t<tr><td>10.969761</td><td>Site 1</td></tr>\n",
       "\t<tr><td>11.904256</td><td>Site 1</td></tr>\n",
       "\t<tr><td> 9.299588</td><td>Site 1</td></tr>\n",
       "\t<tr><td>11.778028</td><td>Site 1</td></tr>\n",
       "\t<tr><td>12.206227</td><td>Site 2</td></tr>\n",
       "</tbody>\n",
       "</table>\n"
      ],
      "text/latex": [
       "A tibble: 6 × 2\n",
       "\\begin{tabular}{ll}\n",
       " measure & site\\_name\\\\\n",
       " <dbl> & <chr>\\\\\n",
       "\\hline\n",
       "\t 11.419961 & Site 1\\\\\n",
       "\t 10.969761 & Site 1\\\\\n",
       "\t 11.904256 & Site 1\\\\\n",
       "\t  9.299588 & Site 1\\\\\n",
       "\t 11.778028 & Site 1\\\\\n",
       "\t 12.206227 & Site 2\\\\\n",
       "\\end{tabular}\n"
      ],
      "text/markdown": [
       "\n",
       "A tibble: 6 × 2\n",
       "\n",
       "| measure &lt;dbl&gt; | site_name &lt;chr&gt; |\n",
       "|---|---|\n",
       "| 11.419961 | Site 1 |\n",
       "| 10.969761 | Site 1 |\n",
       "| 11.904256 | Site 1 |\n",
       "|  9.299588 | Site 1 |\n",
       "| 11.778028 | Site 1 |\n",
       "| 12.206227 | Site 2 |\n",
       "\n"
      ],
      "text/plain": [
       "  measure   site_name\n",
       "1 11.419961 Site 1   \n",
       "2 10.969761 Site 1   \n",
       "3 11.904256 Site 1   \n",
       "4  9.299588 Site 1   \n",
       "5 11.778028 Site 1   \n",
       "6 12.206227 Site 2   "
      ]
     },
     "metadata": {},
     "output_type": "display_data"
    }
   ],
   "source": [
    "data_1 <- tibble(measure=rnorm(5, 10, 1))\n",
    "data_1$site_name <- 'Site 1'\n",
    "data_2 <- tibble(measure=rnorm(5, 12, 1))\n",
    "data_2$site_name <- 'Site 2'\n",
    "complete_data <- rbind(data_1, data_2)\n",
    "head(complete_data)"
   ]
  },
  {
   "cell_type": "markdown",
   "id": "e08bf2cf",
   "metadata": {},
   "source": [
    "* I compute the mean of the dataset above using the following code:\n",
    "  * feel free to deconstruct the code to see what each chunk does.\n"
   ]
  },
  {
   "cell_type": "code",
   "execution_count": 85,
   "id": "dde6ba00",
   "metadata": {},
   "outputs": [
    {
     "data": {
      "text/html": [
       "9.84449232328282"
      ],
      "text/latex": [
       "9.84449232328282"
      ],
      "text/markdown": [
       "9.84449232328282"
      ],
      "text/plain": [
       "[1] 9.844492"
      ]
     },
     "metadata": {},
     "output_type": "display_data"
    },
    {
     "data": {
      "text/html": [
       "12.7192233612323"
      ],
      "text/latex": [
       "12.7192233612323"
      ],
      "text/markdown": [
       "12.7192233612323"
      ],
      "text/plain": [
       "[1] 12.71922"
      ]
     },
     "metadata": {},
     "output_type": "display_data"
    }
   ],
   "source": [
    "mean(complete_data[complete_data$site_name == \"Site 1\", ]$measure)\n",
    "mean(complete_data[complete_data$site_name == \"Site 2\", ]$measure)"
   ]
  },
  {
   "cell_type": "markdown",
   "id": "1ac520b8",
   "metadata": {},
   "source": [
    "* Use the `tapply` function instead of the code above to compute the means samples from \"Site 1\" and those from site 2\n",
    "  * See tapply for help if needed."
   ]
  },
  {
   "cell_type": "code",
   "execution_count": 86,
   "id": "501355df",
   "metadata": {},
   "outputs": [
    {
     "data": {
      "text/html": [
       "<style>\n",
       ".dl-inline {width: auto; margin:0; padding: 0}\n",
       ".dl-inline>dt, .dl-inline>dd {float: none; width: auto; display: inline-block}\n",
       ".dl-inline>dt::after {content: \":\\0020\"; padding-right: .5ex}\n",
       ".dl-inline>dt:not(:first-of-type) {padding-left: .5ex}\n",
       "</style><dl class=dl-inline><dt>Site 1</dt><dd>9.84449232328282</dd><dt>Site 2</dt><dd>12.7192233612323</dd></dl>\n"
      ],
      "text/latex": [
       "\\begin{description*}\n",
       "\\item[Site 1] 9.84449232328282\n",
       "\\item[Site 2] 12.7192233612323\n",
       "\\end{description*}\n"
      ],
      "text/markdown": [
       "Site 1\n",
       ":   9.84449232328282Site 2\n",
       ":   12.7192233612323\n",
       "\n"
      ],
      "text/plain": [
       "   Site 1    Site 2 \n",
       " 9.844492 12.719223 "
      ]
     },
     "metadata": {},
     "output_type": "display_data"
    }
   ],
   "source": [
    "tapply(complete_data$measure, complete_data$site_name, mean)"
   ]
  },
  {
   "cell_type": "markdown",
   "id": "fd91de00",
   "metadata": {},
   "source": [
    "Q.2 \n",
    "\n",
    "* Use the bootstrapping-procedure covered in class to assess whether there is a statistically significant difference between the data in `Site 1` and that in `Site 2`.\n",
    "\n",
    "Make sure you follow the approach discussed in class and which consists of:\n",
    "\n",
    "1. Selecting an appropriate test statistic\n",
    "2. Bootstrapping a a distribuion for the observed statistic under the null hypothesis\n",
    "3. Desciding whether to accept or reject the null based on the probability of the null\n",
    "4. provide a p-value to support your decision.\n"
   ]
  },
  {
   "cell_type": "code",
   "execution_count": 93,
   "id": "f129769f",
   "metadata": {
    "scrolled": true
   },
   "outputs": [],
   "source": [
    "data_1 <- tibble(measure=rnorm(40, 10, 1))\n",
    "data_1$site_name <- 'Site 1'\n",
    "data_2 <- tibble(measure=rnorm(40, 13, 1))\n",
    "data_2$site_name <- 'Site 2'\n",
    "complete_data <- rbind(data_1, data_2)"
   ]
  },
  {
   "cell_type": "code",
   "execution_count": 94,
   "id": "270352ca",
   "metadata": {},
   "outputs": [
    {
     "data": {
      "text/html": [
       "<style>\n",
       ".dl-inline {width: auto; margin:0; padding: 0}\n",
       ".dl-inline>dt, .dl-inline>dd {float: none; width: auto; display: inline-block}\n",
       ".dl-inline>dt::after {content: \":\\0020\"; padding-right: .5ex}\n",
       ".dl-inline>dt:not(:first-of-type) {padding-left: .5ex}\n",
       "</style><dl class=dl-inline><dt>Site 1</dt><dd>10.0960460877518</dd><dt>Site 2</dt><dd>12.9946852301665</dd></dl>\n"
      ],
      "text/latex": [
       "\\begin{description*}\n",
       "\\item[Site 1] 10.0960460877518\n",
       "\\item[Site 2] 12.9946852301665\n",
       "\\end{description*}\n"
      ],
      "text/markdown": [
       "Site 1\n",
       ":   10.0960460877518Site 2\n",
       ":   12.9946852301665\n",
       "\n"
      ],
      "text/plain": [
       "  Site 1   Site 2 \n",
       "10.09605 12.99469 "
      ]
     },
     "metadata": {},
     "output_type": "display_data"
    }
   ],
   "source": [
    "tapply(complete_data$measure, complete_data$site_name, mean)"
   ]
  },
  {
   "cell_type": "code",
   "execution_count": 92,
   "id": "8a0dbe0b",
   "metadata": {},
   "outputs": [
    {
     "name": "stderr",
     "output_type": "stream",
     "text": [
      "Warning message:\n",
      "\"Removed 2 rows containing missing values (geom_bar).\"\n"
     ]
    },
    {
     "data": {
      "image/png": "[encoded data removed]",
      "text/plain": [
       "plot without title"
      ]
     },
     "metadata": {
      "image/png": {
       "height": 420,
       "width": 420
      }
     },
     "output_type": "display_data"
    }
   ],
   "source": []
  },
  {
   "cell_type": "markdown",
   "id": "36f886b6",
   "metadata": {},
   "source": [
    "#### Q2.0 \n",
    "\n",
    "Complete the following by describing the null and the alternative hypotheses we are testing here.\n"
   ]
  },
  {
   "cell_type": "code",
   "execution_count": 108,
   "id": "c719444e",
   "metadata": {},
   "outputs": [
    {
     "name": "stdout",
     "output_type": "stream",
     "text": [
      "[1] \"If there is no difference between data_1 and data_2, their differences can be attributed to statistically probable variability and the null hypothesis is chosen. If the difference between the two datasets is unlikely to have arisen from chance, the alternative hypothesis must be chosen.\"\n"
     ]
    }
   ],
   "source": [
    "print(\"If there is no difference between data_1 and data_2, their differences can be attributed to statistically probable variability and the null hypothesis is chosen. If the difference between the two datasets is unlikely to have arisen from chance, the alternative hypothesis must be chosen.\")\n"
   ]
  },
  {
   "cell_type": "markdown",
   "id": "638ce673",
   "metadata": {},
   "source": [
    "#### Q.2.1 \n",
    "\n",
    "Produce a graph similar the one below (geom_density) display the distributions. If you're using the same seed as mine, your graph will look exactly the same as the one below \n",
    "\n",
    "![](https://www.dropbox.com/s/rz5jxm84kk8ac1m/dist.png?dl=1)"
   ]
  },
  {
   "cell_type": "code",
   "execution_count": 101,
   "id": "83243f10",
   "metadata": {},
   "outputs": [
    {
     "name": "stdout",
     "output_type": "stream",
     "text": [
      "[1] \"The very non-Gaussian distribution below looks anything but normal. Not sure what's wrong!\"\n"
     ]
    },
    {
     "data": {
      "image/png": "[encoded data removed]",
      "text/plain": [
       "plot without title"
      ]
     },
     "metadata": {
      "image/png": {
       "height": 420,
       "width": 420
      }
     },
     "output_type": "display_data"
    }
   ],
   "source": [
    "ggplot(complete_data, aes(x = measure, fill = site_name))+\n",
    "geom_density(bw = 0.2, alpha = 0.4) +\n",
    "xlim(5, 20)\n",
    "print(\"The very non-Gaussian distribution below looks anything but normal. Not sure what's wrong!\")"
   ]
  },
  {
   "cell_type": "markdown",
   "id": "2ce7e15e",
   "metadata": {},
   "source": [
    "Q2.2 Select a proper test statistic and produce a distribution of the statistic under the null hypothesis. Plot the data as both a histogram and density curves. Your graph may look like this.\n",
    "\n",
    "![](https://www.dropbox.com/s/3jarqg9swneai0r/mean_under_null.png?dl=1)"
   ]
  },
  {
   "cell_type": "code",
   "execution_count": 110,
   "id": "8d295234",
   "metadata": {},
   "outputs": [
    {
     "name": "stderr",
     "output_type": "stream",
     "text": [
      "Warning message:\n",
      "\"Removed 2 rows containing missing values (geom_bar).\"\n"
     ]
    },
    {
     "data": {
      "image/png": "[encoded data removed]",
      "text/plain": [
       "plot without title"
      ]
     },
     "metadata": {
      "image/png": {
       "height": 420,
       "width": 420
      }
     },
     "output_type": "display_data"
    }
   ],
   "source": [
    "mean_diff <- function(complete_data){\n",
    "    \n",
    "shuffled_data <- sample(complete_data$measure)\n",
    "length(shuffled_data)\n",
    "shuffled_data\n",
    "new_data_1 <- shuffled_data[1:(length(shuffled_data)/2)]\n",
    "new_data_2 <- shuffled_data[(length(shuffled_data)/2 + 1):length(shuffled_data)]\n",
    "abs(mean(new_data_1) - mean(new_data_2))\n",
    "}\n",
    "\n",
    "diff_null <- replicate(1000, mean_diff(complete_data))\n",
    "observed_means <- tapply(complete_data$measure, complete_data$site_name, mean)\n",
    "diff_observed <- abs(observed_means[1] - observed_means[2])\n",
    "test_plot <- ggplot()+\n",
    "  geom_histogram(aes(diff_null, y=..density..), bins =30, alpha=0.2, color=\"black\") +\n",
    "  geom_density(aes(diff_null), bw=0.2, size=1.5) + \n",
    "  xlim(-4, 4)\n",
    "\n",
    "test_plot"
   ]
  },
  {
   "cell_type": "markdown",
   "id": "4f03ae0d",
   "metadata": {},
   "source": [
    "####  Q2.3. \n",
    "\n",
    "Calculate and plot the observed statistic on the graph you created in Q.2.2. \n"
   ]
  },
  {
   "cell_type": "code",
   "execution_count": 106,
   "id": "cafc48b5",
   "metadata": {},
   "outputs": [
    {
     "name": "stderr",
     "output_type": "stream",
     "text": [
      "Warning message:\n",
      "\"Removed 2 rows containing missing values (geom_bar).\"\n"
     ]
    },
    {
     "data": {
      "image/png": "[encoded data removed]",
      "text/plain": [
       "plot without title"
      ]
     },
     "metadata": {
      "image/png": {
       "height": 420,
       "width": 420
      }
     },
     "output_type": "display_data"
    }
   ],
   "source": [
    "test_plot + geom_point(aes(x=diff_observed, y=0), color = \"red\", size = 5)"
   ]
  },
  {
   "cell_type": "code",
   "execution_count": null,
   "id": "df6e6ba2",
   "metadata": {},
   "outputs": [],
   "source": [
    "#### Q2.4 \n",
    "compute the p-vlaue of the observed statistic under the null. What do you conclude about the hypotheses you enunciated in Q"
   ]
  },
  {
   "cell_type": "code",
   "execution_count": 114,
   "id": "1d49ce59",
   "metadata": {},
   "outputs": [
    {
     "data": {
      "text/html": [
       "'The p-value of the observed statistic under the null is 0, therefore we reject the null hypothesis'"
      ],
      "text/latex": [
       "'The p-value of the observed statistic under the null is 0, therefore we reject the null hypothesis'"
      ],
      "text/markdown": [
       "'The p-value of the observed statistic under the null is 0, therefore we reject the null hypothesis'"
      ],
      "text/plain": [
       "[1] \"The p-value of the observed statistic under the null is 0, therefore we reject the null hypothesis\""
      ]
     },
     "metadata": {},
     "output_type": "display_data"
    }
   ],
   "source": [
    "p_value <- sum(diff_null > diff_observed)  / length(diff_null)\n",
    "sprintf(\"The p-value of the observed statistic under the null is %s, therefore we reject the null hypothesis\", p_value)"
   ]
  },
  {
   "cell_type": "markdown",
   "id": "71226301",
   "metadata": {},
   "source": [
    "#### Q.3 \n",
    "\n",
    "* The proportion of the of _P. lobata_, _M. capitata_ and _P. mendrina_ at a site X are c(0.60, 0.19, 0.21).\n",
    "* You surveyed site Y with different environmental conditions and obtains the following proportions for the three corals (0.61, 0.19, 0.20). Use the multinomial non-parametric hypotheses test to assess whether the proportions obtained at sites X and Y are statistically different.\n",
    "\n",
    "\n",
    "Although not explicitly required, your test should cover all the steps in Q2, i.e. appropriate graph(s) when possible, test statistics, and conclusion."
   ]
  }
 ],
 "metadata": {
  "kernelspec": {
   "display_name": "R",
   "language": "R",
   "name": "ir"
  },
  "language_info": {
   "codemirror_mode": "r",
   "file_extension": ".r",
   "mimetype": "text/x-r-source",
   "name": "R",
   "pygments_lexer": "r",
   "version": "4.1.3"
  }
 },
 "nbformat": 4,
 "nbformat_minor": 5
}
